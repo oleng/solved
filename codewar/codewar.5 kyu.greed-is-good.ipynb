{
 "cells": [
  {
   "cell_type": "markdown",
   "metadata": {},
   "source": [
    "Title: Greed is Good    \n",
    "Rank: 5 kyu    \n",
    "Link: https://www.codewars.com/kata/5270d0d18625160ada0000e4    \n",
    "Datetime: 2020-02-11T17:50:05.979Z     \n",
    "Category: algorithms     \n",
    "Tags: ['Algorithms']"
   ]
  },
  {
   "cell_type": "markdown",
   "metadata": {},
   "source": [
    "Greed is a dice game played with five six-sided dice. Your mission, should you choose to accept it, is to score a throw according to these rules. You will always be given an array with five six-sided dice values.\n",
    "\n",
    "``` \n",
    " Three 1's => 1000 points\n",
    " Three 6's =>  600 points\n",
    " Three 5's =>  500 points\n",
    " Three 4's =>  400 points\n",
    " Three 3's =>  300 points\n",
    " Three 2's =>  200 points\n",
    " One   1   =>  100 points\n",
    " One   5   =>   50 point\n",
    "```\n",
    "\n",
    "A single die can only be counted once in each roll. For example, a given \"5\" can only count as part of a \n",
    "triplet (contributing to the 500 points) or as a single 50 points, but not both in the same roll.\n",
    "\n",
    "Example scoring\n",
    "\n",
    "```\n",
    " Throw       Score\n",
    " ---------   ------------------\n",
    " 5 1 3 4 1   250:  50 (for the 5) + 2 * 100 (for the 1s)\n",
    " 1 1 1 3 1   1100: 1000 (for three 1s) + 100 (for the other 1)\n",
    " 2 4 4 5 4   450:  400 (for three 4s) + 50 (for the 5)\n",
    "```\n",
    "\n",
    "In some languages, it is possible to mutate the input to the function. This is something that you should never do. If you mutate the input, you will not be able to pass all the tests.\n"
   ]
  },
  {
   "cell_type": "code",
   "execution_count": null,
   "metadata": {},
   "outputs": [],
   "source": [
    "# Solution\n",
    "\n",
    "from collections import Counter\n",
    "\n",
    "def score(dice):\n",
    "    scores = 0\n",
    "    points = {\n",
    "            'high': {1: 1000, 6: 600, 5: 500, 4:400, 3: 300, 2: 200},\n",
    "            'low': {1: 100, 5: 50}\n",
    "            }\n",
    "\n",
    "    for val, count in Counter(dice).items():\n",
    "        if count >= 3:\n",
    "            high, low = count // 3, count % 3\n",
    "            scores += points['high'].get(val) + (points['low'].get(val, 0) * low)\n",
    "        else:\n",
    "            scores += points['low'].get(val, 0) * count\n",
    "    return scores"
   ]
  }
 ],
 "metadata": {
  "kernelspec": {
   "display_name": "Python 3",
   "language": "python",
   "name": "python3"
  },
  "language_info": {
   "codemirror_mode": {
    "name": "ipython",
    "version": 3
   },
   "file_extension": ".py",
   "mimetype": "text/x-python",
   "name": "python",
   "nbconvert_exporter": "python",
   "pygments_lexer": "ipython3",
   "version": "3.7.5"
  }
 },
 "nbformat": 4,
 "nbformat_minor": 2
}
