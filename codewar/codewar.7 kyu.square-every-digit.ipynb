{
 "cells": [
  {
   "cell_type": "markdown",
   "metadata": {},
   "source": [
    "Title: Square Every Digit    \n",
    "Rank: 7 kyu    \n",
    "Link: https://www.codewars.com/kata/546e2562b03326a88e000020    \n",
    "Datetime: 2020-02-10T03:47:57.861Z     \n",
    "Category: reference     \n",
    "Tags: ['Fundamentals', 'Mathematics', 'Algorithms', 'Logic', 'Numbers']"
   ]
  },
  {
   "cell_type": "markdown",
   "metadata": {},
   "source": [
    "Welcome. In this kata, you are asked to square every digit of a number and concatenate them.\n",
    "\n",
    "For example, if we run 9119 through the function, 811181 will come out, because 9<sup>2</sup> is 81 and 1<sup>2</sup> is 1.\n",
    "\n",
    "**Note:** The function accepts an integer and returns an integer\n"
   ]
  },
  {
   "cell_type": "code",
   "execution_count": null,
   "metadata": {},
   "outputs": [],
   "source": [
    "# Solution\n",
    "\n",
    "def square_digits(num):\n",
    "    nums = [str(pow(int(x), 2)) for x in list(str(num))]\n",
    "    return int(''.join(nums))"
   ]
  }
 ],
 "metadata": {
  "kernelspec": {
   "display_name": "Python 3",
   "language": "python",
   "name": "python3"
  },
  "language_info": {
   "codemirror_mode": {
    "name": "ipython",
    "version": 3
   },
   "file_extension": ".py",
   "mimetype": "text/x-python",
   "name": "python",
   "nbconvert_exporter": "python",
   "pygments_lexer": "ipython3",
   "version": "3.7.5"
  }
 },
 "nbformat": 4,
 "nbformat_minor": 2
}
