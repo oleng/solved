{
    "cells": [
        {
            "cell_type": "markdown",
            "metadata": {},
            "source": [
                "### Shortest Word (7 kyu)    \n",
                "https://www.codewars.com/kata/57cebe1dc6fdc20c57000ac9    \n",
                "2020-02-11T12:54:52.633Z     \n",
                "Category: reference, Tags: ['Fundamentals']"
            ]
        },
        {
            "cell_type": "markdown",
            "metadata": {},
            "source": [
                "Simple, given a string of words, return the length of the shortest word(s).\n",
                "\n",
                "String will never be empty and you do not need to account for different data types.\n"
            ]
        },
        {
            "cell_type": "code",
            "execution_count": null,
            "metadata": {},
            "outputs": [],
            "source": [
                "# Solution\n",
                "\n",
                "def find_short(s):\n",
                "    l = min([len(w) for w in sorted(s.split())])\n",
                "    return l # l: shortest word length"
            ]
        }
    ],
    "metadata": {
        "kernelspec": {
            "display_name": "Python 3",
            "language": "python",
            "name": "python3"
        },
        "language_info": {
            "codemirror_mode": {
                "name": "ipython",
                "version": 3
            },
            "file_extension": ".py",
            "mimetype": "text/x-python",
            "name": "python",
            "nbconvert_exporter": "python",
            "pygments_lexer": "ipython3",
            "version": "3.7.5"
        }
    },
    "nbformat": 4,
    "nbformat_minor": 2
}