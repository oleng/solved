{
    "cells": [
        {
            "cell_type": "markdown",
            "metadata": {},
            "source": [
                "### Multiply (8 kyu)    \n",
                "https://www.codewars.com/kata/50654ddff44f800200000004    \n",
                "2020-02-09T17:53:59.874Z     \n",
                "Category: bug_fixes, Tags: ['Bugs']"
            ]
        },
        {
            "cell_type": "markdown",
            "metadata": {},
            "source": [
                "This code does not execute properly. Try to figure out why."
            ]
        },
        {
            "cell_type": "code",
            "execution_count": null,
            "metadata": {},
            "outputs": [],
            "source": [
                "# Solution\n",
                "\n",
                "def multiply(a, b):\n",
                "    return a * b"
            ]
        }
    ],
    "metadata": {
        "kernelspec": {
            "display_name": "Python 3",
            "language": "python",
            "name": "python3"
        },
        "language_info": {
            "codemirror_mode": {
                "name": "ipython",
                "version": 3
            },
            "file_extension": ".py",
            "mimetype": "text/x-python",
            "name": "python",
            "nbconvert_exporter": "python",
            "pygments_lexer": "ipython3",
            "version": "3.7.5"
        }
    },
    "nbformat": 4,
    "nbformat_minor": 2
}