{
 "cells": [
  {
   "cell_type": "markdown",
   "metadata": {},
   "source": [
    "Title: Categorize New Member    \n",
    "Rank: 7 kyu    \n",
    "Link: https://www.codewars.com/kata/5502c9e7b3216ec63c0001aa    \n",
    "Datetime: 2020-02-10T06:01:41.269Z     \n",
    "Category: reference     \n",
    "Tags: ['Fundamentals', 'Rules']"
   ]
  },
  {
   "cell_type": "markdown",
   "metadata": {},
   "source": [
    "The Western Suburbs Croquet Club has two categories of membership, Senior and Open. They would like your help with an application form that will tell prospective members which category they will be placed.\n",
    "\n",
    "To be a senior, a member must be at least 55 years old and have a handicap greater than 7. In this croquet club, handicaps range from -2 to +26; the better the player the lower the handicap.\n",
    "## Input\n",
    "\n",
    "Input will consist of a list of lists containing two items each. Each list contains information for a single potential member. Information consists of an integer for the person's age and an integer for the person's handicap.\n",
    "\n",
    "Note for F#: The input will be of (int list list)\n",
    "which is a List<List<int>>\n",
    "\n",
    "### Example Input\n",
    "```python\n",
    "[[18, 20],[45, 2],[61, 12],[37, 6],[21, 21],[78, 9]]\n",
    "```\n",
    "```ruby\n",
    "[[18, 20],[45, 2],[61, 12],[37, 6],[21, 21],[78, 9]]\n",
    "```\n",
    "```javascript\n",
    "[[18, 20],[45, 2],[61, 12],[37, 6],[21, 21],[78, 9]]\n",
    "```\n",
    "```haskell\n",
    "[(18, 20),(45, 2),(61, 12),(37, 6),(21, 21),(78, 9)]\n",
    "```\n",
    "```csharp\n",
    "new int[][] {new int[] {18, 20}, new int[] {45, 2}, new int[] {61, 12}, new int[] {37, 6}, new int[] {21, 21}, new int[] {78, 9}}\n",
    "```\n",
    "```fsharp\n",
    "[[18; 20];[45; 2];[61; 12];[37; 6];[21; 21];[78; 9]]\n",
    "```\n",
    "```rust\n",
    "vec![(45, 12), (55,21), (19, -2), (104, 20)])\n",
    "```\n",
    "```groovy\n",
    "[new Tuple(45, 12), new Tuple(55,21), new Tuple(19, -2), new Tuple(104, 20)]\n",
    "```\n",
    "\n",
    "## Output\n",
    "Output will consist of a list of string values (in Haskell: `Open` or `Senior`) stating whether the respective member is to be placed in the senior or open category.\n",
    "\n",
    "### Example Output\n",
    "```python\n",
    "[\"Open\", \"Open\", \"Senior\", \"Open\", \"Open\", \"Senior\"]\n",
    "```\n",
    "```ruby\n",
    "[\"Open\", \"Open\", \"Senior\", \"Open\", \"Open\", \"Senior\"]\n",
    "```\n",
    "```javascript\n",
    "[\"Open\", \"Open\", \"Senior\", \"Open\", \"Open\", \"Senior\"]\n",
    "```\n",
    "```haskell\n",
    "[Open, Open, Senior, Open, Open, Senior]\n",
    "```\n",
    "```csharp\n",
    "new string[] {\"Open\", \"Open\", \"Senior\", \"Open\", \"Open\", \"Senior\"}\n",
    "```\n",
    "```fsharp\n",
    "[\"Open\"; \"Open\"; \"Senior\"; \"Open\"; \"Open\"; \"Senior\"]\n",
    "```\n",
    "```rust\n",
    "vec![\"Open\", \"Senior\", \"Open\", \"Senior\"]\n",
    "```\n",
    "```groovy\n",
    "[\"Open\", \"Senior\", \"Open\", \"Senior\"]\n",
    "```\n"
   ]
  },
  {
   "cell_type": "code",
   "execution_count": null,
   "metadata": {},
   "outputs": [],
   "source": [
    "# Solution\n",
    "\n",
    "def openOrSenior(data):\n",
    "    handicaps = range(-2, 26)\n",
    "    s_age, s_hcap = 55, 7\n",
    "    seniority = ['Senior' if m[0] >= s_age and \n",
    "                            m[1] > s_hcap \n",
    "                            else 'Open' \n",
    "                            for m in data]\n",
    "    return seniority"
   ]
  }
 ],
 "metadata": {
  "kernelspec": {
   "display_name": "Python 3",
   "language": "python",
   "name": "python3"
  },
  "language_info": {
   "codemirror_mode": {
    "name": "ipython",
    "version": 3
   },
   "file_extension": ".py",
   "mimetype": "text/x-python",
   "name": "python",
   "nbconvert_exporter": "python",
   "pygments_lexer": "ipython3",
   "version": "3.7.5"
  }
 },
 "nbformat": 4,
 "nbformat_minor": 2
}
