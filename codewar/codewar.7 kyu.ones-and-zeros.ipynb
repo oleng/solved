{
    "cells": [
        {
            "cell_type": "markdown",
            "metadata": {},
            "source": [
                "### Ones and Zeros (7 kyu)    \n",
                "https://www.codewars.com/kata/578553c3a1b8d5c40300037c    \n",
                "2020-02-10T06:54:35.774Z     \n",
                "Category: reference, Tags: ['Fundamentals', 'Arrays', 'Data Types']"
            ]
        },
        {
            "cell_type": "markdown",
            "metadata": {},
            "source": [
                "Given an array of ones and zeroes, convert the equivalent binary value to an integer.\n",
                "\n",
                "Eg: `[0, 0, 0, 1]` is treated as `0001` which is the binary representation of `1`.\n",
                "\n",
                "Examples:\n",
                "```\n",
                "Testing: [0, 0, 0, 1] ==> 1\n",
                "Testing: [0, 0, 1, 0] ==> 2\n",
                "Testing: [0, 1, 0, 1] ==> 5\n",
                "Testing: [1, 0, 0, 1] ==> 9\n",
                "Testing: [0, 0, 1, 0] ==> 2\n",
                "Testing: [0, 1, 1, 0] ==> 6\n",
                "Testing: [1, 1, 1, 1] ==> 15\n",
                "Testing: [1, 0, 1, 1] ==> 11\n",
                "```\n",
                "\n",
                "However, the arrays can have varying lengths, not just limited to `4`."
            ]
        },
        {
            "cell_type": "code",
            "execution_count": null,
            "metadata": {},
            "outputs": [],
            "source": [
                "# Solution\n",
                "\n",
                "def binary_array_to_number(arr):\n",
                "    return int(''.join( list(map(str, arr)) ), 2)"
            ]
        }
    ],
    "metadata": {
        "kernelspec": {
            "display_name": "Python 3",
            "language": "python",
            "name": "python3"
        },
        "language_info": {
            "codemirror_mode": {
                "name": "ipython",
                "version": 3
            },
            "file_extension": ".py",
            "mimetype": "text/x-python",
            "name": "python",
            "nbconvert_exporter": "python",
            "pygments_lexer": "ipython3",
            "version": "3.7.5"
        }
    },
    "nbformat": 4,
    "nbformat_minor": 2
}