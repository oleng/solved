{
    "cells": [
        {
            "cell_type": "markdown",
            "metadata": {},
            "source": [
                "### Duplicate Encoder (6 kyu)    \n",
                "https://www.codewars.com/kata/54b42f9314d9229fd6000d9c    \n",
                "2020-02-11T16:01:11.840Z     \n",
                "Category: reference, Tags: ['Fundamentals', 'Strings', 'Data Types', 'Arrays']"
            ]
        },
        {
            "cell_type": "markdown",
            "metadata": {},
            "source": [
                "The goal of this exercise is to convert a string to a new string where each character in the new string is `\"(\"` if that character appears only once in the original string, or `\")\"` if that character appears more than once in the original string. Ignore capitalization when determining if a character is a duplicate.\n",
                "\n",
                "## Examples\n",
                "```\n",
                "\"din\"      =>  \"(((\"\n",
                "\"recede\"   =>  \"()()()\"\n",
                "\"Success\"  =>  \")())())\"\n",
                "\"(( @\"     =>  \"))((\" \n",
                "```\n",
                "\n",
                "**Notes**\n",
                "\n",
                "Assertion messages may be unclear about what they display in some languages. If you read `\"...It Should encode XXX\"`, the `\"XXX\"` is the expected result, not the input!"
            ]
        },
        {
            "cell_type": "code",
            "execution_count": null,
            "metadata": {},
            "outputs": [],
            "source": [
                "# Solution\n",
                "\n",
                "from collections import Counter\n",
                "\n",
                "def duplicate_encode(word):\n",
                "    '''\n",
                "    ( if that character appears only once in the original string, or \n",
                "    ) if that character appears more than once in the original string. \n",
                "    '''\n",
                "    w = word.lower()\n",
                "    counts = Counter(w)\n",
                "    translated = ''.join([\n",
                "                        '(' if counts[c] == 1 \n",
                "                        else ')' \n",
                "                        for c in w\n",
                "                        ])\n",
                "    return translated"
            ]
        }
    ],
    "metadata": {
        "kernelspec": {
            "display_name": "Python 3",
            "language": "python",
            "name": "python3"
        },
        "language_info": {
            "codemirror_mode": {
                "name": "ipython",
                "version": 3
            },
            "file_extension": ".py",
            "mimetype": "text/x-python",
            "name": "python",
            "nbconvert_exporter": "python",
            "pygments_lexer": "ipython3",
            "version": "3.7.5"
        }
    },
    "nbformat": 4,
    "nbformat_minor": 2
}