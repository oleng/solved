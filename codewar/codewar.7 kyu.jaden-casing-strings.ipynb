{
    "cells": [
        {
            "cell_type": "markdown",
            "metadata": {},
            "source": [
                "### Jaden Casing Strings (7 kyu)    \n",
                "https://www.codewars.com/kata/5390bac347d09b7da40006f6    \n",
                "2020-02-09T18:07:14.746Z     \n",
                "Category: reference, Tags: ['Fundamentals', 'Strings', 'Data Types', 'Arrays']"
            ]
        },
        {
            "cell_type": "markdown",
            "metadata": {},
            "source": [
                "Jaden Smith, the son of Will Smith, is the star of films such as The Karate Kid (2010) and After Earth (2013). Jaden is also known for [some of his philosophy that he delivers via Twitter](https://twitter.com/jaden). When writing on Twitter, he is known for almost always capitalizing every word. For simplicity, you'll have to capitalize each word, check out how contractions are expected to be in the example below.\n",
                "\n",
                "Your task is to convert strings to how they would be written by Jaden Smith. The strings are actual quotes from Jaden Smith, but they are not capitalized in the same way he originally typed them.\n",
                "\n",
                "Example:\n",
                "\n",
                "    Not Jaden-Cased: \"How can mirrors be real if our eyes aren't real\"\n",
                "    Jaden-Cased:     \"How Can Mirrors Be Real If Our Eyes Aren't Real\"\n",
                "\n",
                "```if:java    \n",
                "Note that the **Java version** expects a return value of null for an empty string or null.\n",
                "```\n",
                "\n",
                "[Link to Jaden's former Twitter account @officialjaden via archive.org](https://web.archive.org/web/20190624190255/https://twitter.com/officialjaden)"
            ]
        },
        {
            "cell_type": "code",
            "execution_count": null,
            "metadata": {},
            "outputs": [],
            "source": [
                "# Solution\n",
                "\n",
                "def to_jaden_case(string):\n",
                "    return ' '.join(list(map(\n",
                "                    str.capitalize, \n",
                "                    string.split()\n",
                "                    )))"
            ]
        }
    ],
    "metadata": {
        "kernelspec": {
            "display_name": "Python 3",
            "language": "python",
            "name": "python3"
        },
        "language_info": {
            "codemirror_mode": {
                "name": "ipython",
                "version": 3
            },
            "file_extension": ".py",
            "mimetype": "text/x-python",
            "name": "python",
            "nbconvert_exporter": "python",
            "pygments_lexer": "ipython3",
            "version": "3.7.5"
        }
    },
    "nbformat": 4,
    "nbformat_minor": 2
}