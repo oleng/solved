{
 "cells": [
  {
   "cell_type": "markdown",
   "metadata": {},
   "source": [
    "Title: Vowel Count    \n",
    "Rank: 7 kyu    \n",
    "Link: https://www.codewars.com/kata/54ff3102c1bad923760001f3    \n",
    "Datetime: 2020-02-10T03:58:32.426Z     \n",
    "Category: reference     \n",
    "Tags: ['Fundamentals', 'Strings', 'Data Types', 'Utilities']"
   ]
  },
  {
   "cell_type": "markdown",
   "metadata": {},
   "source": [
    "Return the number (count) of vowels in the given string. \n",
    "\n",
    "We will consider `a, e, i, o, u` as vowels for this Kata (but not `y`).\n",
    "\n",
    "The input string will only consist of lower case letters and/or spaces."
   ]
  },
  {
   "cell_type": "code",
   "execution_count": null,
   "metadata": {},
   "outputs": [],
   "source": [
    "# Solution\n",
    "\n",
    "def getCount(inputStr):\n",
    "    num_vowels = len([x for x in inputStr if x in set('aeiou')])\n",
    "    return num_vowels"
   ]
  }
 ],
 "metadata": {
  "kernelspec": {
   "display_name": "Python 3",
   "language": "python",
   "name": "python3"
  },
  "language_info": {
   "codemirror_mode": {
    "name": "ipython",
    "version": 3
   },
   "file_extension": ".py",
   "mimetype": "text/x-python",
   "name": "python",
   "nbconvert_exporter": "python",
   "pygments_lexer": "ipython3",
   "version": "3.7.5"
  }
 },
 "nbformat": 4,
 "nbformat_minor": 2
}
