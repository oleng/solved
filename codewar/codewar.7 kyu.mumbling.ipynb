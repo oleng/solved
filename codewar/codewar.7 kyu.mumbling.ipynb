{
    "cells": [
        {
            "cell_type": "markdown",
            "metadata": {},
            "source": [
                "### Mumbling (7 kyu)    \n",
                "https://www.codewars.com/kata/5667e8f4e3f572a8f2000039    \n",
                "2020-02-11T18:38:13.901Z     \n",
                "Category: reference, Tags: ['Fundamentals']"
            ]
        },
        {
            "cell_type": "markdown",
            "metadata": {},
            "source": [
                "This time no story, no theory. The examples below show you how to write function `accum`:\n",
                "\n",
                "**Examples:**\n",
                "```\n",
                "accum(\"abcd\") -> \"A-Bb-Ccc-Dddd\"\n",
                "accum(\"RqaEzty\") -> \"R-Qq-Aaa-Eeee-Zzzzz-Tttttt-Yyyyyyy\"\n",
                "accum(\"cwAt\") -> \"C-Ww-Aaa-Tttt\"\n",
                "```\n",
                "\n",
                "The parameter of accum is a string which includes only letters from `a..z` and `A..Z`.\n",
                "\n",
                "\n",
                "\n",
                "\n"
            ]
        },
        {
            "cell_type": "code",
            "execution_count": null,
            "metadata": {},
            "outputs": [],
            "source": [
                "# Solution\n",
                "\n",
                "def accum(s):\n",
                "    s = [\n",
                "        (c * (i+1)).capitalize() \n",
                "        for i, c in \n",
                "        enumerate(list(s))\n",
                "        ]\n",
                "    result = '-'.join(s)\n",
                "\n",
                "    return result"
            ]
        }
    ],
    "metadata": {
        "kernelspec": {
            "display_name": "Python 3",
            "language": "python",
            "name": "python3"
        },
        "language_info": {
            "codemirror_mode": {
                "name": "ipython",
                "version": 3
            },
            "file_extension": ".py",
            "mimetype": "text/x-python",
            "name": "python",
            "nbconvert_exporter": "python",
            "pygments_lexer": "ipython3",
            "version": "3.7.5"
        }
    },
    "nbformat": 4,
    "nbformat_minor": 2
}