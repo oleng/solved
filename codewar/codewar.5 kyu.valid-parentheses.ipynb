{
 "cells": [
  {
   "cell_type": "markdown",
   "metadata": {},
   "source": [
    "Title: Valid Parentheses    \n",
    "Rank: 5 kyu    \n",
    "Link: https://www.codewars.com/kata/52774a314c2333f0a7000688    \n",
    "Datetime: 2020-02-11T14:10:22.780Z     \n",
    "Category: algorithms     \n",
    "Tags: ['Algorithms', 'Validation', 'Logic', 'Utilities']"
   ]
  },
  {
   "cell_type": "markdown",
   "metadata": {},
   "source": [
    "Write a function called that takes a string of parentheses, and determines if the order of the parentheses is valid. The function should return `true` if the string is valid, and `false` if it's invalid.\n",
    "\n",
    "## Examples\n",
    "\n",
    "```\n",
    "\"()\"              =>  true\n",
    "\")(()))\"          =>  false\n",
    "\"(\"               =>  false\n",
    "\"(())((()())())\"  =>  true\n",
    "```\n",
    "\n",
    "## Constraints\n",
    "\n",
    "`0 <= input.length <= 100`\n",
    "\n",
    "~~~if-not:javascript,go\n",
    "Along with opening (`(`) and closing (`)`) parenthesis, input may contain any valid ASCII characters.  Furthermore, the input string may be empty and/or not contain any parentheses at all.  Do **not** treat other forms of brackets as parentheses (e.g. `[]`, `{}`, `<>`).\n",
    "~~~"
   ]
  },
  {
   "cell_type": "code",
   "execution_count": null,
   "metadata": {},
   "outputs": [],
   "source": [
    "# Solution\n",
    "\n",
    "def valid_parentheses(_str):\n",
    "    valid = '()'\n",
    "    stripped = ''.join([c for c in _str.strip() if c in valid])\n",
    "    if len(stripped) == 0 or _str == valid:\n",
    "        return True\n",
    "    elif any([0 < len(stripped) <=1,\n",
    "            stripped.count(')') != stripped.count('('),\n",
    "            stripped.startswith(')(')\n",
    "            ]):\n",
    "        return False\n",
    "    else:\n",
    "        return valid_parentheses(stripped.replace('()', ''))"
   ]
  }
 ],
 "metadata": {
  "kernelspec": {
   "display_name": "Python 3",
   "language": "python",
   "name": "python3"
  },
  "language_info": {
   "codemirror_mode": {
    "name": "ipython",
    "version": 3
   },
   "file_extension": ".py",
   "mimetype": "text/x-python",
   "name": "python",
   "nbconvert_exporter": "python",
   "pygments_lexer": "ipython3",
   "version": "3.7.5"
  }
 },
 "nbformat": 4,
 "nbformat_minor": 2
}
