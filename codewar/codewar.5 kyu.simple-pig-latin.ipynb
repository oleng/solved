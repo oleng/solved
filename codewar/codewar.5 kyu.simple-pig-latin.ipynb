{
 "cells": [
  {
   "cell_type": "markdown",
   "metadata": {},
   "source": [
    "Title: Simple Pig Latin    \n",
    "Rank: 5 kyu    \n",
    "Link: https://www.codewars.com/kata/520b9d2ad5c005041100000f    \n",
    "Datetime: 2020-02-11T16:15:51.916Z     \n",
    "Category: algorithms     \n",
    "Tags: ['Algorithms']"
   ]
  },
  {
   "cell_type": "markdown",
   "metadata": {},
   "source": [
    "Move the first letter of each word to the end of it, then add \"ay\" to the end of the word. Leave punctuation marks untouched.\n",
    "\n",
    "## Examples\n",
    "\n",
    "```javascript\n",
    "pigIt('Pig latin is cool'); // igPay atinlay siay oolcay\n",
    "pigIt('Hello world !');     // elloHay orldway !\n",
    "```\n",
    "```objc\n",
    "pigIt(@\"Pig latin is cool\"); // => @\"igPay atinlay siay oolcay\"\n",
    "pigIt(@\"Hello world !\");     // => @\"elloHay orldway !\"\n",
    "```\n",
    "```ruby\n",
    "pig_it('Pig latin is cool') # igPay atinlay siay oolcay\n",
    "pig_it('Hello world !')     # elloHay orldway !\n",
    "```\n",
    "```python\n",
    "pig_it('Pig latin is cool') # igPay atinlay siay oolcay\n",
    "pig_it('Hello world !')     # elloHay orldway !\n",
    "```\n",
    "```csharp\n",
    "Kata.PigIt(\"Pig latin is cool\"); // igPay atinlay siay oolcay\n",
    "Kata.PigIt(\"Hello world !\");     // elloHay orldway !\n",
    "```\n",
    "```C++\n",
    "pig_it(\"Pig latin is cool\");   // igPay atinlay siay oolcay\n",
    "pig_it(\"Hello world !\");       // elloHay orldway\n",
    "```\n",
    "```Java\n",
    "PigLatin.pigIt('Pig latin is cool'); // igPay atinlay siay oolcay\n",
    "PigLatin.pigIt('Hello world !');     // elloHay orldway !\n",
    "```\n",
    "```clojure\n",
    "(piglatin/pig-it \"Pig latin is cool\") ; \"igPay atinlay siay oolcay\"\n",
    "(piglatin/pig-it \"Hello world !\")     ; \"elloHay orldway !\"\n",
    "```\n"
   ]
  },
  {
   "cell_type": "code",
   "execution_count": null,
   "metadata": {},
   "outputs": [],
   "source": [
    "# Solution\n",
    "\n",
    "def pig_it(text):\n",
    "    return ' '.join([\n",
    "                f'{word[1:]}{word[0]}ay' \n",
    "                if word.isalpha() \n",
    "                else word\n",
    "                for word in \n",
    "                text.split()\n",
    "                ])"
   ]
  }
 ],
 "metadata": {
  "kernelspec": {
   "display_name": "Python 3",
   "language": "python",
   "name": "python3"
  },
  "language_info": {
   "codemirror_mode": {
    "name": "ipython",
    "version": 3
   },
   "file_extension": ".py",
   "mimetype": "text/x-python",
   "name": "python",
   "nbconvert_exporter": "python",
   "pygments_lexer": "ipython3",
   "version": "3.7.5"
  }
 },
 "nbformat": 4,
 "nbformat_minor": 2
}
