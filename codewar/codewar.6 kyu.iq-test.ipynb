{
    "cells": [
        {
            "cell_type": "markdown",
            "metadata": {},
            "source": [
                "### IQ Test (6 kyu)    \n",
                "https://www.codewars.com/kata/552c028c030765286c00007d    \n",
                "2020-02-10T07:20:11.285Z     \n",
                "Category: reference, Tags: ['Fundamentals', 'Logic']"
            ]
        },
        {
            "cell_type": "markdown",
            "metadata": {},
            "source": [
                "Bob is preparing to pass IQ test. The most frequent task in this test is `to find out which one of the given numbers differs from the others`. Bob observed that one number usually differs from the others in **evenness**. Help Bob \u2014 to check his answers, he needs a program that among the given numbers finds one that is different in evenness, and return a position of this number.\n",
                "\n",
                "`!` Keep in mind that your task is to help Bob solve a `real IQ test`, which means indexes of the elements start from `1 (not 0)`\n",
                "\n",
                "##Examples :\n",
                "\n",
                "```csharp\n",
                "IQ.Test(\"2 4 7 8 10\") => 3 // Third number is odd, while the rest of the numbers are even\n",
                "\n",
                "IQ.Test(\"1 2 1 1\") => 2 // Second number is even, while the rest of the numbers are odd\n",
                "```\n",
                "```javascript\n",
                "iqTest(\"2 4 7 8 10\") => 3 // Third number is odd, while the rest of the numbers are even\n",
                "\n",
                "iqTest(\"1 2 1 1\") => 2 // Second number is even, while the rest of the numbers are odd\n",
                "```\n",
                "```typescript\n",
                "iqTest(\"2 4 7 8 10\") => 3 // Third number is odd, while the rest of the numbers are even\n",
                "\n",
                "iqTest(\"1 2 1 1\") => 2 // Second number is even, while the rest of the numbers are odd\n",
                "```\n",
                "```ruby\n",
                "iq_test(\"2 4 7 8 10\") => 3 // Third number is odd, while the rest of the numbers are even\n",
                "\n",
                "iq_test(\"1 2 1 1\") => 2 // Second number is even, while the rest of the numbers are odd\n",
                "```\n",
                " \n",
                "```python\n",
                "iq_test(\"2 4 7 8 10\") => 3 // Third number is odd, while the rest of the numbers are even\n",
                "\n",
                "iq_test(\"1 2 1 1\") => 2 // Second number is even, while the rest of the numbers are odd\n",
                "```\n",
                "  \n"
            ]
        },
        {
            "cell_type": "code",
            "execution_count": null,
            "metadata": {},
            "outputs": [],
            "source": [
                "# Solution\n",
                "\n",
                "def iq_test(numbers):\n",
                "    even = [int(n) % 2 for n in numbers.split()]\n",
                "    return even.index(0) + 1 \\\n",
                "            if even.count(0) < even.count(1) \\\n",
                "            else even.index(1) + 1"
            ]
        }
    ],
    "metadata": {
        "kernelspec": {
            "display_name": "Python 3",
            "language": "python",
            "name": "python3"
        },
        "language_info": {
            "codemirror_mode": {
                "name": "ipython",
                "version": 3
            },
            "file_extension": ".py",
            "mimetype": "text/x-python",
            "name": "python",
            "nbconvert_exporter": "python",
            "pygments_lexer": "ipython3",
            "version": "3.7.5"
        }
    },
    "nbformat": 4,
    "nbformat_minor": 2
}