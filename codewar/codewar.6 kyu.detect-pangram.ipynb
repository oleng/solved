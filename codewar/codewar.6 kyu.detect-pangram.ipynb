{
    "cells": [
        {
            "cell_type": "markdown",
            "metadata": {},
            "source": [
                "### Detect Pangram (6 kyu)    \n",
                "https://www.codewars.com/kata/545cedaa9943f7fe7b000048    \n",
                "2020-02-11T14:23:01.727Z     \n",
                "Category: reference, Tags: ['Fundamentals', 'Strings', 'Data Types', 'Data Structures']"
            ]
        },
        {
            "cell_type": "markdown",
            "metadata": {},
            "source": [
                "A pangram is a sentence that contains every single letter of the alphabet at least once. For example, the sentence \"The quick brown fox jumps over the lazy dog\" is a pangram, because it uses the letters A-Z at least once (case is irrelevant). \n",
                "\n",
                "Given a string, detect whether or not it is a pangram. Return True if it is, False if not. Ignore numbers and punctuation. "
            ]
        },
        {
            "cell_type": "code",
            "execution_count": null,
            "metadata": {},
            "outputs": [],
            "source": [
                "# Solution\n",
                "\n",
                "import string\n",
                "\n",
                "def is_pangram(s):\n",
                "    return set(string.ascii_lowercase) <= set([c.lower() for c in s])"
            ]
        }
    ],
    "metadata": {
        "kernelspec": {
            "display_name": "Python 3",
            "language": "python",
            "name": "python3"
        },
        "language_info": {
            "codemirror_mode": {
                "name": "ipython",
                "version": 3
            },
            "file_extension": ".py",
            "mimetype": "text/x-python",
            "name": "python",
            "nbconvert_exporter": "python",
            "pygments_lexer": "ipython3",
            "version": "3.7.5"
        }
    },
    "nbformat": 4,
    "nbformat_minor": 2
}