{
 "cells": [
  {
   "cell_type": "markdown",
   "metadata": {},
   "source": [
    "###  771. Jewels and Stones (Easy)\n",
    "\n",
    "You're given strings `J` representing the types of stones that are jewels, and `S` representing the stones you have.  Each character in `S` is a type of stone you have.  You want to know how many of the stones you have are also jewels.\n",
    "\n",
    "The letters in `J` are guaranteed distinct, and all characters in `J` and `S` are letters. Letters are case sensitive, so `\"a\"` is considered a different type of stone from `\"A\"`.\n",
    "\n",
    "\n",
    "**Example 1**:    \n",
    "Input: `J = \"aA\", S = \"aAAbbbb\"`     \n",
    "Output: `3`\n",
    "\n",
    "**Example 2**:     \n",
    "Input: `J = \"z\", S = \"ZZ\"`     \n",
    "Output: `0`\n",
    "\n",
    "\n",
    "**Note**:\n",
    "\n",
    "    S and J will consist of letters and have length at most 50.\n",
    "    The characters in J are distinct.\n"
   ]
  },
  {
   "cell_type": "code",
   "execution_count": 9,
   "metadata": {},
   "outputs": [],
   "source": [
    "# Solution, Runtime: 40 ms, < 21.94%\n",
    "\n",
    "def numJewelsInStones(J: str, S: str) -> int:\n",
    "    return sum([S.count(i) for i in J])\n",
    "\n",
    "    \n",
    "# test cases\n",
    "\n",
    "cases = [[\"aA\", \"aAAbbbb\"], ['z', 'ZZ']]"
   ]
  },
  {
   "cell_type": "code",
   "execution_count": null,
   "metadata": {},
   "outputs": [],
   "source": []
  }
 ],
 "metadata": {
  "kernelspec": {
   "display_name": "Python 3",
   "language": "python",
   "name": "python3"
  },
  "language_info": {
   "codemirror_mode": {
    "name": "ipython",
    "version": 3
   },
   "file_extension": ".py",
   "mimetype": "text/x-python",
   "name": "python",
   "nbconvert_exporter": "python",
   "pygments_lexer": "ipython3",
   "version": "3.7.5"
  }
 },
 "nbformat": 4,
 "nbformat_minor": 2
}
