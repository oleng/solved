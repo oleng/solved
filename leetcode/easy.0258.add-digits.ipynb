{
 "cells": [
  {
   "cell_type": "markdown",
   "metadata": {},
   "source": [
    "### 258. Add Digits (Easy)\n",
    "\n",
    "Given a non-negative integer num, repeatedly add all its digits until the result has only one digit.\n",
    "\n",
    "**Example**:       \n",
    "Input: `38`     \n",
    "Output: `2`   \n",
    "Explanation:   The process is like: 3 + 8 = 11, 1 + 1 = 2. Since 2 has only one digit, return it.\n",
    "\n",
    "**Follow up**:       \n",
    "Could you do it without any loop/recursion in O(1) runtime?"
   ]
  },
  {
   "cell_type": "code",
   "execution_count": null,
   "metadata": {},
   "outputs": [],
   "source": [
    "# Solution, 28ms, < 85.74%\n",
    "\n",
    "def addDigits(num: int) -> int:\n",
    "    add = sum(map(int, list(str(num))))\n",
    "    if add > 9:\n",
    "        return addDigits(add)\n",
    "    return add\n",
    "\n",
    "# Test cases\n",
    "cases = [38, 9987, 553, 0, 1, 15] "
   ]
  }
 ],
 "metadata": {
  "kernelspec": {
   "display_name": "Python 3",
   "language": "python",
   "name": "python3"
  },
  "language_info": {
   "codemirror_mode": {
    "name": "ipython",
    "version": 3
   },
   "file_extension": ".py",
   "mimetype": "text/x-python",
   "name": "python",
   "nbconvert_exporter": "python",
   "pygments_lexer": "ipython3",
   "version": "3.7.5"
  }
 },
 "nbformat": 4,
 "nbformat_minor": 2
}
