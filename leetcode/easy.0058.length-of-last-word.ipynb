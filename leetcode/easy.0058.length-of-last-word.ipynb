{
 "cells": [
  {
   "cell_type": "markdown",
   "metadata": {},
   "source": [
    "### 58. Length of Last Word (Easy)\n",
    "\n",
    "Given a string s consists of upper/lower-case alphabets and empty space characters `' '`, return the length of last word (last word means the last appearing word if we loop from left to right) in the string.\n",
    "\n",
    "If the last word does not exist, return `0`.\n",
    "\n",
    "Note: A word is defined as a maximal substring consisting of non-space characters only.\n",
    "\n",
    "\n",
    "**Example**:     \n",
    "Input: `\"Hello World\"`       \n",
    "Output: `5`\n"
   ]
  },
  {
   "cell_type": "code",
   "execution_count": 1,
   "metadata": {},
   "outputs": [],
   "source": [
    "# Solution Runtime: 28 ms, <  83.56%\n",
    "\n",
    "def lengthOfLastWord(s: str) -> int:\n",
    "    if not s or ''.join(set(s)) == ' ':\n",
    "        return 0\n",
    "    elif ' ' not in s.strip() and len(s)<1:\n",
    "        return 0\n",
    "    *_, last = s.strip().split()\n",
    "    return len(last)\n",
    "\n",
    "# Test cases\n",
    "cases = [' ', \"Hello World\", \"a \", \" a \", \"  ba \", \"ba    \", ' Geeks for Geeks']"
   ]
  },
  {
   "cell_type": "code",
   "execution_count": null,
   "metadata": {},
   "outputs": [],
   "source": []
  }
 ],
 "metadata": {
  "kernelspec": {
   "display_name": "Python 3",
   "language": "python",
   "name": "python3"
  },
  "language_info": {
   "codemirror_mode": {
    "name": "ipython",
    "version": 3
   },
   "file_extension": ".py",
   "mimetype": "text/x-python",
   "name": "python",
   "nbconvert_exporter": "python",
   "pygments_lexer": "ipython3",
   "version": "3.7.5"
  }
 },
 "nbformat": 4,
 "nbformat_minor": 2
}
