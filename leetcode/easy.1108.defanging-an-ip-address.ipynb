{
 "cells": [
  {
   "cell_type": "markdown",
   "metadata": {},
   "source": [
    "### 1108. Defanging an IP Address (Easy)\n",
    "\n",
    "Given a valid (IPv4) IP address, return a defanged version of that IP address.\n",
    "\n",
    "A _defanged_ IP address replaces every period `\".\"` with `\"[.]\"`.\n",
    "\n",
    " \n",
    "**Example 1**:    \n",
    "Input: `address = \"1.1.1.1\"`     \n",
    "Output: `\"1[.]1[.]1[.]1\"`\n",
    "\n",
    "**Example 2**:     \n",
    "Input: `address = \"255.100.50.0\"`    \n",
    "Output: `\"255[.]100[.]50[.]0\"`\n",
    "\n",
    "\n",
    "**Constraints**:\n",
    "\n",
    "    The given address is a valid IPv4 address.\n"
   ]
  },
  {
   "cell_type": "code",
   "execution_count": 1,
   "metadata": {},
   "outputs": [],
   "source": [
    "# Solution, Runtime: 28 ms, < 76.41%\n",
    "\n",
    "def defangIPaddr(self, address: str) -> str:\n",
    "    return address.replace('.', '[.]')\n",
    "\n",
    "    \n",
    "# test cases\n",
    "\n",
    "cases = [\"1.1.1.1\", \"255.100.50.0\", '0.0.0.0', '127.0.0.1']"
   ]
  },
  {
   "cell_type": "code",
   "execution_count": null,
   "metadata": {},
   "outputs": [],
   "source": []
  }
 ],
 "metadata": {
  "kernelspec": {
   "display_name": "Python 3",
   "language": "python",
   "name": "python3"
  },
  "language_info": {
   "codemirror_mode": {
    "name": "ipython",
    "version": 3
   },
   "file_extension": ".py",
   "mimetype": "text/x-python",
   "name": "python",
   "nbconvert_exporter": "python",
   "pygments_lexer": "ipython3",
   "version": "3.7.5"
  }
 },
 "nbformat": 4,
 "nbformat_minor": 2
}
