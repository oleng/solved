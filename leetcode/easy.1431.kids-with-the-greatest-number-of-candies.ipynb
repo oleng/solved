{
 "cells": [
  {
   "cell_type": "markdown",
   "metadata": {},
   "source": [
    "### 1431. Kids With the Greatest Number of Candies (Easy)\n",
    "\n",
    "Given the array candies and the integer `extraCandies`, where `candies[i]` represents the number of candies that the `i`-th kid has.\n",
    "\n",
    "For each kid check if there is a way to distribute `extraCandies` among the kids such that he or she can have the greatest number of candies among them. Notice that multiple kids can have the greatest number of candies.\n",
    "\n",
    " \n",
    "**Example 1**:    \n",
    "Input: candies = `[2,3,5,1,3], extraCandies = 3`     \n",
    "Output: `[true,true,true,false,true]`    \n",
    "Explanation:      \n",
    "```Kid 1 has 2 candies and if he or she receives all extra candies (3) will have 5 candies --- the greatest number of candies among the kids. \n",
    "Kid 2 has 3 candies and if he or she receives at least 2 extra candies will have the greatest number of candies among the kids. \n",
    "Kid 3 has 5 candies and this is already the greatest number of candies among the kids. \n",
    "Kid 4 has 1 candy and even if he or she receives all extra candies will only have 4 candies. \n",
    "Kid 5 has 3 candies and if he or she receives at least 2 extra candies will have the greatest number of candies among the kids.\n",
    "``` \n",
    "\n",
    "**Example 2**:     \n",
    "Input: candies = `[4,2,1,1,2], extraCandies = 1`     \n",
    "Output: `[true,false,false,false,false]`    \n",
    "Explanation:      \n",
    "`There is only 1 extra candy, therefore only kid 1 will have the greatest number of candies among the kids regardless of who takes the extra candy.`\n",
    "\n",
    "**Example 3**:      \n",
    "Input: `candies = [12,1,12], extraCandies = 10`    \n",
    "Output: `[true,false,true]`\n",
    "\n",
    "\n",
    "**Constraints**:\n",
    "\n",
    "    2 <= candies.length <= 100\n",
    "    1 <= candies[i] <= 100\n",
    "    1 <= extraCandies <= 50\n"
   ]
  },
  {
   "cell_type": "code",
   "execution_count": null,
   "metadata": {},
   "outputs": [],
   "source": [
    "# Solution, Runtime: 36 ms, < 78.73%\n",
    "\n",
    "def kidsWithCandies(candies, extraCandies):\n",
    "    if not candies:\n",
    "        return []\n",
    "    greatest = max(candies)\n",
    "    return [c + extraCandies >= greatest for c in candies]\n",
    "\n",
    "# test cases\n",
    "\n",
    "cases = [\n",
    "        [[2,3,5,1,3], 3], \n",
    "        [[4,2,1,1,2], 1],\n",
    "        [[12,1,12], 10]\n",
    "]"
   ]
  }
 ],
 "metadata": {
  "kernelspec": {
   "display_name": "Python 3",
   "language": "python",
   "name": "python3"
  },
  "language_info": {
   "codemirror_mode": {
    "name": "ipython",
    "version": 3
   },
   "file_extension": ".py",
   "mimetype": "text/x-python",
   "name": "python",
   "nbconvert_exporter": "python",
   "pygments_lexer": "ipython3",
   "version": "3.7.5"
  }
 },
 "nbformat": 4,
 "nbformat_minor": 2
}
