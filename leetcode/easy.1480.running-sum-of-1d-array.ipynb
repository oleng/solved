{
 "cells": [
  {
   "cell_type": "markdown",
   "metadata": {},
   "source": [
    "### 1480. Running Sum of 1d Array (Easy)\n",
    "\n",
    "Given an array nums. We define a running sum of an array as `runningSum[i] = sum(nums[0]…nums[i])`.\n",
    "\n",
    "Return the running sum of nums.\n",
    "\n",
    " \n",
    "**Example 1**:    \n",
    "Input: `nums = [1,2,3,4]`    \n",
    "Output: `[1,3,6,10]`     \n",
    "Explanation: `Running sum is obtained as follows: [1, 1+2, 1+2+3, 1+2+3+4]`.\n",
    "\n",
    "**Example 2**:     \n",
    "Input: `nums = [1,1,1,1,1]`    \n",
    "Output: `[1,2,3,4,5]`     \n",
    "Explanation: `Running sum is obtained as follows: [1, 1+1, 1+1+1, 1+1+1+1, 1+1+1+1+1]`.\n",
    "\n",
    "**Example 3**:      \n",
    "Input: `nums = [3,1,2,10,1]`      \n",
    "Output: `[3,4,6,16,17]`   \n",
    "\n",
    "\n",
    "**Constraints**:\n",
    "\n",
    "    1 <= nums.length <= 1000\n",
    "    -10^6 <= nums[i] <= 10^6\n"
   ]
  },
  {
   "cell_type": "code",
   "execution_count": null,
   "metadata": {},
   "outputs": [],
   "source": [
    "# Solution, Runtime: 40 ms, < 70.73%\n",
    "\n",
    "def runningSum(nums):\n",
    "    sums = []\n",
    "    r = 0\n",
    "    for i, n in enumerate(nums):\n",
    "        r += n\n",
    "        sums.append(r)\n",
    "    return sums\n",
    "\n",
    "# test cases\n",
    "\n",
    "cases = [\n",
    "        [1,2,3,4], \n",
    "        [1,1,1,1,1],\n",
    "        [3,1,2,10,1],\n",
    "        [0],\n",
    "        [0,0,0]\n",
    "]"
   ]
  }
 ],
 "metadata": {
  "kernelspec": {
   "display_name": "Python 3",
   "language": "python",
   "name": "python3"
  },
  "language_info": {
   "codemirror_mode": {
    "name": "ipython",
    "version": 3
   },
   "file_extension": ".py",
   "mimetype": "text/x-python",
   "name": "python",
   "nbconvert_exporter": "python",
   "pygments_lexer": "ipython3",
   "version": "3.7.5"
  }
 },
 "nbformat": 4,
 "nbformat_minor": 2
}
