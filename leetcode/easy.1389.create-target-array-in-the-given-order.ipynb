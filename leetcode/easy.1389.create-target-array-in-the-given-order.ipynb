{
 "cells": [
  {
   "cell_type": "markdown",
   "metadata": {},
   "source": [
    "### 1389. Create Target Array in the Given Order (Easy)\n",
    "\n",
    "Given two arrays of integers `nums` and `index`. Your task is to create `target` array under the following rules:\n",
    "\n",
    "- Initially target array is empty.\n",
    "- From left to right read `nums[i]` and `index[i]`, insert at index `index[i]` the value `nums[i]` in target array.\n",
    "- Repeat the previous step until there are no elements to read in nums and index.\n",
    "\n",
    "Return the `target` array.\n",
    "\n",
    "It is guaranteed that the insertion operations will be valid.\n",
    "\n",
    "\n",
    "**Example 1**:    \n",
    "Input: `nums = [0,1,2,3,4], index = [0,1,2,2,1]`      \n",
    "Output: `[0,4,1,3,2]    `\n",
    "Explanation:     \n",
    "```\n",
    "nums       index     target\n",
    "0            0        [0]\n",
    "1            1        [0,1]\n",
    "2            2        [0,1,2]\n",
    "3            2        [0,1,3,2]\n",
    "4            1        [0,4,1,3,2]\n",
    "```\n",
    "\n",
    "**Example 2**:     \n",
    "Input: `nums = [1,2,3,4,0], index = [0,1,2,3,0]`      \n",
    "Output: `[0,1,2,3,4]`      \n",
    "Explanation:       \n",
    "```\n",
    "nums       index     target\n",
    "1            0        [1]\n",
    "2            1        [1,2]\n",
    "3            2        [1,2,3]\n",
    "4            3        [1,2,3,4]\n",
    "0            0        [0,1,2,3,4]\n",
    "```\n",
    "\n",
    "**Example 3**:      \n",
    "Input: `nums = [1], index = [0]`      \n",
    "Output: `[1]`\n",
    "\n",
    "**Constraints**:\n",
    "\n",
    "    1 <= nums.length, index.length <= 100\n",
    "    nums.length == index.length\n",
    "    0 <= nums[i] <= 100\n",
    "    0 <= index[i] <= i\n"
   ]
  },
  {
   "cell_type": "code",
   "execution_count": 8,
   "metadata": {},
   "outputs": [],
   "source": [
    "# Solution, Runtime: 36 ms, < 51.09%\n",
    "\n",
    "def createTargetArray(nums, index):\n",
    "    target = []\n",
    "    for a,b in zip(nums, index):\n",
    "        target.insert(b, a)\n",
    "    return target\n",
    "    \n",
    "    \n",
    "# test cases\n",
    "\n",
    "cases = [\n",
    "        [[0,1,2,3,4], [0,1,2,2,1]], \n",
    "        [[1,2,3,4,0], [0,1,2,3,0]]\n",
    "        ]"
   ]
  },
  {
   "cell_type": "code",
   "execution_count": null,
   "metadata": {},
   "outputs": [],
   "source": []
  }
 ],
 "metadata": {
  "kernelspec": {
   "display_name": "Python 3",
   "language": "python",
   "name": "python3"
  },
  "language_info": {
   "codemirror_mode": {
    "name": "ipython",
    "version": 3
   },
   "file_extension": ".py",
   "mimetype": "text/x-python",
   "name": "python",
   "nbconvert_exporter": "python",
   "pygments_lexer": "ipython3",
   "version": "3.7.5"
  }
 },
 "nbformat": 4,
 "nbformat_minor": 2
}
