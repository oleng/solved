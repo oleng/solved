{
 "cells": [
  {
   "cell_type": "markdown",
   "metadata": {},
   "source": [
    "### 14. Longest common prefix (Easy)\n",
    "\n",
    "Write a function to find the longest common prefix string amongst an array of strings.\n",
    "\n",
    "If there is no common prefix, return an empty string `\"\"`.\n",
    "\n",
    "**Example 1**:        \n",
    "Input:    \n",
    "`[\"flower\",\"flow\",\"flight\"]`   \n",
    "Output:    \n",
    "`\"fl\"`\n",
    "\n",
    "**Example 2**:     \n",
    "Input:       \n",
    "`[\"dog\",\"racecar\",\"car\"]`      \n",
    "Output:     \n",
    "`\"\"`\n",
    "Explanation:     \n",
    "`There is no common prefix among the input strings.`\n",
    "\n",
    "**Note**:    \n",
    "All given inputs are in lowercase letters `a-z`.\n"
   ]
  },
  {
   "cell_type": "code",
   "execution_count": 2,
   "metadata": {},
   "outputs": [],
   "source": [
    "# Solution Runtime: 28 ms, < 93.41%\n",
    "\n",
    "def longestCommonPrefix(strs) -> str:\n",
    "    if not strs:\n",
    "        return ''\n",
    "    \n",
    "    elif len(strs) == 1:\n",
    "        return strs[0]\n",
    "    \n",
    "    else:\n",
    "        shortest = min(strs, key=len)\n",
    "        strs.pop(strs.index(shortest))\n",
    "        prefix = ''\n",
    "        for i, char in enumerate(shortest):\n",
    "            if not all([char == s[i] for s in strs]):\n",
    "                return prefix\n",
    "            prefix += char\n",
    "        return prefix\n",
    "    \n",
    "# Test cases\n",
    "cases = [\n",
    "        [],\n",
    "        ['', ''],\n",
    "        [\"flower\",\"flow\",\"flight\"],\n",
    "        [\"dog\",\"racecar\",\"car\"],\n",
    "        ['geeks', 'dgeek'],\n",
    "        ['', 'practicegeeks', 'coderpractice'],\n",
    "        [\"interspecies\", \"interstellar\", \"interstate\"]\n",
    "]"
   ]
  },
  {
   "cell_type": "code",
   "execution_count": null,
   "metadata": {},
   "outputs": [],
   "source": []
  }
 ],
 "metadata": {
  "kernelspec": {
   "display_name": "Python 3",
   "language": "python",
   "name": "python3"
  },
  "language_info": {
   "codemirror_mode": {
    "name": "ipython",
    "version": 3
   },
   "file_extension": ".py",
   "mimetype": "text/x-python",
   "name": "python",
   "nbconvert_exporter": "python",
   "pygments_lexer": "ipython3",
   "version": "3.7.5"
  }
 },
 "nbformat": 4,
 "nbformat_minor": 2
}
