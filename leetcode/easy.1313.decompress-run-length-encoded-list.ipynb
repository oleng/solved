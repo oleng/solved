{
 "cells": [
  {
   "cell_type": "markdown",
   "metadata": {},
   "source": [
    "### 1313. Decompress Run-Length Encoded List (Easy)\n",
    "\n",
    "We are given a list nums of integers representing a list compressed with run-length encoding.\n",
    "\n",
    "Consider each adjacent pair of elements `[freq, val] = [nums[2*i], nums[2*i+1]]` (with `i >= 0`).  For each such pair, there are `freq` elements with value `val` concatenated in a sublist. Concatenate all the sublists from left to right to generate the decompressed list.\n",
    "\n",
    "Return the decompressed list.\n",
    "\n",
    " \n",
    "**Example 1**:    \n",
    "Input: `nums = [1,2,3,4]`      \n",
    "Output: `[2,4,4,4]`     \n",
    "Explanation:\n",
    "```\n",
    "The first pair [1,2] means we have freq = 1 and val = 2 so we generate the array [2].\n",
    "The second pair [3,4] means we have freq = 3 and val = 4 so we generate [4,4,4].\n",
    "At the end the concatenation [2] + [4,4,4] is [2,4,4,4].\n",
    "```\n",
    "\n",
    "**Example 2**:     \n",
    "Input: `nums = [1,1,2,3]`     \n",
    "Output: `[1,3,3]`\n",
    "\n",
    "\n",
    "**Constraints**:\n",
    "\n",
    "    2 <= nums.length <= 100\n",
    "    nums.length % 2 == 0\n",
    "    1 <= nums[i] <= 100\n",
    "\n"
   ]
  },
  {
   "cell_type": "code",
   "execution_count": 5,
   "metadata": {},
   "outputs": [],
   "source": [
    "# Solution, Runtime: 56 ms, < 99.34%\n",
    "def decompressRLElist(nums):\n",
    "    result = []\n",
    "    for freq, val in zip(nums[0::2], nums[1::2]):\n",
    "        result += [val] * freq\n",
    "    return result\n",
    "    \n",
    "# test cases\n",
    "\n",
    "cases = [[1,2,3,4], [1,1,2,3], [0, 0], [1, 1], [1,10,2,5]]"
   ]
  },
  {
   "cell_type": "code",
   "execution_count": null,
   "metadata": {},
   "outputs": [],
   "source": []
  }
 ],
 "metadata": {
  "kernelspec": {
   "display_name": "Python 3",
   "language": "python",
   "name": "python3"
  },
  "language_info": {
   "codemirror_mode": {
    "name": "ipython",
    "version": 3
   },
   "file_extension": ".py",
   "mimetype": "text/x-python",
   "name": "python",
   "nbconvert_exporter": "python",
   "pygments_lexer": "ipython3",
   "version": "3.7.5"
  }
 },
 "nbformat": 4,
 "nbformat_minor": 2
}
