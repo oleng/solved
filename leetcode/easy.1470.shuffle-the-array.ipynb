{
 "cells": [
  {
   "cell_type": "markdown",
   "metadata": {},
   "source": [
    "### 1470. Shuffle the Array (Easy)\n",
    "\n",
    "Given the array nums consisting of `2n` elements in the form `[x1,x2,...,xn,y1,y2,...,yn]`.\n",
    "\n",
    "Return the array in the form `[x1,y1,x2,y2,...,xn,yn]`.\n",
    "\n",
    " \n",
    "**Example 1**:    \n",
    "Input: `nums = [2,5,1,3,4,7], n = 3`    \n",
    "Output: `[2,3,5,4,1,7]`     \n",
    "Explanation:      \n",
    "`Since x1=2, x2=5, x3=1, y1=3, y2=4, y3=7 then the answer is [2,3,5,4,1,7].`\n",
    "\n",
    "\n",
    "**Example 2**:     \n",
    "Input: `nums = [1,2,3,4,4,3,2,1], n = 4`     \n",
    "Output: `[1,4,2,3,3,2,4,1]`  \n",
    "\n",
    "**Example 3**:      \n",
    "Input: `nums = [1,1,2,2], n = 2`     \n",
    "Output: `[1,2,1,2]`\n",
    "\n",
    "**Constraints**:\n",
    "\n",
    "    1 <= n <= 500\n",
    "    nums.length == 2n\n",
    "    1 <= nums[i] <= 10^3\n"
   ]
  },
  {
   "cell_type": "code",
   "execution_count": null,
   "metadata": {},
   "outputs": [],
   "source": [
    "# Solution, Runtime: 64 ms, <  59.78%\n",
    "\n",
    "def shuffle(nums, n):\n",
    "    shuffled = []\n",
    "    for i,j in zip(nums[:n], nums[n:]):\n",
    "        shuffled.extend([i, j])\n",
    "    return shuffled\n",
    "\n",
    "    \n",
    "# test cases\n",
    "\n",
    "cases = [\n",
    "        [[2,5,1,3,4,7], 3], \n",
    "        [[1,2,3,4,4,3,2,1], 4],\n",
    "        [[1,1,2,2], 2]\n",
    "]"
   ]
  }
 ],
 "metadata": {
  "kernelspec": {
   "display_name": "Python 3",
   "language": "python",
   "name": "python3"
  },
  "language_info": {
   "codemirror_mode": {
    "name": "ipython",
    "version": 3
   },
   "file_extension": ".py",
   "mimetype": "text/x-python",
   "name": "python",
   "nbconvert_exporter": "python",
   "pygments_lexer": "ipython3",
   "version": "3.7.5"
  }
 },
 "nbformat": 4,
 "nbformat_minor": 2
}
