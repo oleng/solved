{
 "cells": [
  {
   "cell_type": "markdown",
   "metadata": {},
   "source": [
    "### 225. Implement Stack using Queues (Easy)\n",
    "\n",
    "Implement the following operations of a stack using queues.\n",
    "\n",
    "    push(x) -- Push element x onto stack.\n",
    "    pop() -- Removes the element on top of the stack.\n",
    "    top() -- Get the top element.\n",
    "    empty() -- Return whether the stack is empty.\n",
    "\n",
    "Example:\n",
    "\n",
    "    MyStack stack = new MyStack();\n",
    "\n",
    "    stack.push(1);\n",
    "    stack.push(2);  \n",
    "    stack.top();   // returns 2\n",
    "    stack.pop();   // returns 2\n",
    "    stack.empty(); // returns false\n",
    "\n",
    "**Notes**:     \n",
    "- You must use only standard operations of a queue -- which means only push to back, peek/pop from front, size, and is empty operations are valid.    \n",
    "- Depending on your language, queue may not be supported natively. You may simulate a queue by using a list or deque (double-ended queue), as long as you use only standard operations of a queue.     \n",
    "- You may assume that all operations are valid (for example, no pop or top operations will be called on an empty stack).\n"
   ]
  },
  {
   "cell_type": "code",
   "execution_count": null,
   "metadata": {},
   "outputs": [],
   "source": [
    "# Solution, Runtime: 24 ms, < 92.15%\n",
    "\n",
    "class MyStack:\n",
    "\n",
    "    def __init__(self):\n",
    "        \"\"\"\n",
    "        Initialize your data structure here.\n",
    "        \"\"\"\n",
    "        self.stack = []                \n",
    "\n",
    "    def push(self, x: int) -> None:\n",
    "        \"\"\"\n",
    "        Push element x onto stack.\n",
    "        \"\"\"\n",
    "        self.stack.insert(0, x)\n",
    "\n",
    "    def pop(self) -> int:\n",
    "        \"\"\"\n",
    "        Removes the element on top of the stack and returns that element.\n",
    "        \"\"\"\n",
    "        return self.stack.pop(0)\n",
    "        \n",
    "\n",
    "    def top(self) -> int:\n",
    "        \"\"\"\n",
    "        Get the top element.\n",
    "        \"\"\"\n",
    "        return self.stack[0]\n",
    "\n",
    "    def empty(self) -> bool:\n",
    "        \"\"\"\n",
    "        Returns whether the stack is empty.\n",
    "        \"\"\"\n",
    "        return len(self.stack) < 1\n",
    "\n",
    "# test cases\n",
    "\n",
    "stack = MyStack()\n",
    "\n",
    "stack.push(1)\n",
    "stack.push(2)\n",
    "stack.top()\n",
    "stack.pop()\n",
    "stack.empty()\n"
   ]
  }
 ],
 "metadata": {
  "kernelspec": {
   "display_name": "Python 3",
   "language": "python",
   "name": "python3"
  },
  "language_info": {
   "codemirror_mode": {
    "name": "ipython",
    "version": 3
   },
   "file_extension": ".py",
   "mimetype": "text/x-python",
   "name": "python",
   "nbconvert_exporter": "python",
   "pygments_lexer": "ipython3",
   "version": "3.7.5"
  }
 },
 "nbformat": 4,
 "nbformat_minor": 2
}
