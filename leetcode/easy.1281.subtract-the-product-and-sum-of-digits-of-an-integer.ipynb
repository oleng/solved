{
 "cells": [
  {
   "cell_type": "markdown",
   "metadata": {},
   "source": [
    "### 1281. Subtract the Product and Sum of Digits of an Integer (Easy)\n",
    "\n",
    "Given an integer number `n`, return the difference between the product of its digits and the sum of its digits.\n",
    "\n",
    " \n",
    "**Example 1**:    \n",
    "Input: `n = 234`     \n",
    "Output: `15`     \n",
    "Explanation:     \n",
    "```\n",
    "Product of digits = 2 * 3 * 4 = 24 \n",
    "Sum of digits = 2 + 3 + 4 = 9 \n",
    "Result = 24 - 9 = 15\n",
    "```\n",
    "\n",
    "**Example 2**:     \n",
    "Input: `n = 4421`     \n",
    "Output: `21`.    \n",
    "Explanation: \n",
    "```\n",
    "Product of digits = 4 * 4 * 2 * 1 = 32 \n",
    "Sum of digits = 4 + 4 + 2 + 1 = 11 \n",
    "Result = 32 - 11 = 21\n",
    "```\n",
    "\n",
    "**Example 3**:      \n",
    "Input: `nums = [1,1,2,2], n = 2`     \n",
    "Output: `[1,2,1,2]`\n",
    "\n",
    "**Constraints**:\n",
    "\n",
    "    1 <= n <= 10^5\n"
   ]
  },
  {
   "cell_type": "code",
   "execution_count": 2,
   "metadata": {},
   "outputs": [],
   "source": [
    "# Solution, Runtime: 36 ms, < 27.78%\n",
    "\n",
    "def subtractProductAndSum(self, n: int) -> int:\n",
    "    digits = [ int(i) for i in (str(n)) ]\n",
    "    product = 1\n",
    "    for x in digits:\n",
    "        product *= x\n",
    "    return product - sum(digits)\n",
    "\n",
    "    \n",
    "# test cases\n",
    "\n",
    "cases = [234, 4421, 0, 1, 92823]"
   ]
  },
  {
   "cell_type": "code",
   "execution_count": null,
   "metadata": {},
   "outputs": [],
   "source": []
  }
 ],
 "metadata": {
  "kernelspec": {
   "display_name": "Python 3",
   "language": "python",
   "name": "python3"
  },
  "language_info": {
   "codemirror_mode": {
    "name": "ipython",
    "version": 3
   },
   "file_extension": ".py",
   "mimetype": "text/x-python",
   "name": "python",
   "nbconvert_exporter": "python",
   "pygments_lexer": "ipython3",
   "version": "3.7.5"
  }
 },
 "nbformat": 4,
 "nbformat_minor": 2
}
