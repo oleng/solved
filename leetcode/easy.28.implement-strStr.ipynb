{
 "cells": [
  {
   "cell_type": "markdown",
   "metadata": {},
   "source": [
    "### 28. Implement strStr() (Easy)\n",
    "\n",
    "Return the index of the first occurrence of needle in haystack, or `-1` if needle is not part of haystack.\n",
    "\n",
    "**Example 1**:    \n",
    "Input: `haystack = \"hello\", needle = \"ll\"`     \n",
    "Output: `2`\n",
    "\n",
    "**Example 2**:      \n",
    "Input: `haystack = \"aaaaa\", needle = \"bba\"`    \n",
    "Output: `-1`\n",
    "\n",
    "**Clarification**:     \n",
    "What should we return when needle is an empty string? This is a great question to ask during an interview.      \n",
    "For the purpose of this problem, we will return `0` when `needle` is an empty string. This is consistent to C's `strstr()` and Java's `indexOf()`.\n",
    "\n",
    "**Constraints**:     \n",
    "`haystack` and `needle` consist only of lowercase English characters.\n"
   ]
  },
  {
   "cell_type": "code",
   "execution_count": 4,
   "metadata": {},
   "outputs": [],
   "source": [
    "# Solution Runtime: 28 ms, < 84.95%\n",
    "\n",
    "def strStr(self, haystack: str, needle: str) -> int:\n",
    "    if not needle:\n",
    "        return 0\n",
    "    elif needle in haystack:\n",
    "        return haystack.index(needle)\n",
    "    else:\n",
    "        return -1\n",
    "    \n",
    "    \n",
    "# Test cases\n",
    "cases = [\n",
    "        [],\n",
    "        ['', ''],\n",
    "        [\"hello\",\"ll\"],\n",
    "        [\"aaaaa\",\"bba\"],\n",
    "        ['GeeksForGeeks', 'For'],\n",
    "        ['mississippimississippimississipippimissisippimissisippimissispimississippimississippimississippimississippimississippiabcabdabc', 'abcabdabc']\n",
    "]"
   ]
  },
  {
   "cell_type": "code",
   "execution_count": null,
   "metadata": {},
   "outputs": [],
   "source": []
  }
 ],
 "metadata": {
  "kernelspec": {
   "display_name": "Python 3",
   "language": "python",
   "name": "python3"
  },
  "language_info": {
   "codemirror_mode": {
    "name": "ipython",
    "version": 3
   },
   "file_extension": ".py",
   "mimetype": "text/x-python",
   "name": "python",
   "nbconvert_exporter": "python",
   "pygments_lexer": "ipython3",
   "version": "3.7.5"
  }
 },
 "nbformat": 4,
 "nbformat_minor": 2
}
