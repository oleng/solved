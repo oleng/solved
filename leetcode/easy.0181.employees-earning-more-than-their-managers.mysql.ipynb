{
 "cells": [
  {
   "cell_type": "markdown",
   "metadata": {},
   "source": [
    "### 181. Employees Earning More Than Their Managers \n",
    "\n",
    "SQL Schema\n",
    "\n",
    "---\n",
    "\n",
    "    Create table If Not Exists Employee (Id int, Name varchar(255), Salary int, ManagerId int)\n",
    "    Truncate table Employee\n",
    "    insert into Employee (Id, Name, Salary, ManagerId) values ('1', 'Joe', '70000', '3')\n",
    "    insert into Employee (Id, Name, Salary, ManagerId) values ('2', 'Henry', '80000', '4')\n",
    "    insert into Employee (Id, Name, Salary, ManagerId) values ('3', 'Sam', '60000', 'None')\n",
    "    insert into Employee (Id, Name, Salary, ManagerId) values ('4', 'Max', '90000', 'None')\n",
    "  \n",
    "---\n",
    "\n",
    "The `Employee` table holds all employees including their managers. Every employee has an Id, and there is also a column for the manager Id.\n",
    "\n",
    "    +----+-------+--------+-----------+\n",
    "    | Id | Name  | Salary | ManagerId |\n",
    "    +----+-------+--------+-----------+\n",
    "    | 1  | Joe   | 70000  | 3         |\n",
    "    | 2  | Henry | 80000  | 4         |\n",
    "    | 3  | Sam   | 60000  | NULL      |\n",
    "    | 4  | Max   | 90000  | NULL      |\n",
    "    +----+-------+--------+-----------+\n",
    "\n",
    "Given the Employee table, write a SQL query that finds out employees who earn more than their managers. For the above table, Joe is the only employee who earns more than his manager.\n",
    "\n",
    "    +----------+\n",
    "    | Employee |\n",
    "    +----------+\n",
    "    | Joe      |\n",
    "    +----------+\n",
    "    \n"
   ]
  },
  {
   "cell_type": "code",
   "execution_count": 1,
   "metadata": {},
   "outputs": [
    {
     "ename": "SyntaxError",
     "evalue": "invalid syntax (<ipython-input-1-d40081114b5f>, line 4)",
     "output_type": "error",
     "traceback": [
      "\u001b[0;36m  File \u001b[0;32m\"<ipython-input-1-d40081114b5f>\"\u001b[0;36m, line \u001b[0;32m4\u001b[0m\n\u001b[0;31m    SELECT e.Name as Employee\u001b[0m\n\u001b[0m           ^\u001b[0m\n\u001b[0;31mSyntaxError\u001b[0m\u001b[0;31m:\u001b[0m invalid syntax\n"
     ]
    }
   ],
   "source": [
    "# Runtime: 611 ms, < 26.20%\n",
    "SELECT e.Name as Employee\n",
    "FROM Employee as e, Employee as m\n",
    "WHERE e.ManagerId IS NOT NULL \n",
    "AND e.ManagerId = m.Id\n",
    "AND e.Salary > m.Salary"
   ]
  },
  {
   "cell_type": "code",
   "execution_count": null,
   "metadata": {},
   "outputs": [],
   "source": []
  }
 ],
 "metadata": {
  "kernelspec": {
   "display_name": "Python 3",
   "language": "python",
   "name": "python3"
  },
  "language_info": {
   "codemirror_mode": {
    "name": "ipython",
    "version": 3
   },
   "file_extension": ".py",
   "mimetype": "text/x-python",
   "name": "python",
   "nbconvert_exporter": "python",
   "pygments_lexer": "ipython3",
   "version": "3.7.5"
  }
 },
 "nbformat": 4,
 "nbformat_minor": 2
}
