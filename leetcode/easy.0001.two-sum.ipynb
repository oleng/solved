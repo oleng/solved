{
 "cells": [
  {
   "cell_type": "markdown",
   "metadata": {},
   "source": [
    "### 1. Two sum (Easy)\n",
    "\n",
    "Given an array of integers nums and an integer `target`, return indices of the two numbers such that they add up to `target`.\n",
    "\n",
    "You may assume that each input would have exactly one solution, and you may not use the same element twice.\n",
    "\n",
    "You can return the answer in any order.\n",
    "\n",
    "\n",
    "**Example 1**:     \n",
    "Input:    \n",
    "`nums = [2,7,11,15], target = 9`     \n",
    "Output:    \n",
    "`[0,1]`    \n",
    "Output:    \n",
    "`Because nums[0] + nums[1] == 9, we return [0, 1]`     \n",
    "\n",
    "**Example 2**:     \n",
    "Input:    \n",
    "`nums = [3,2,4], target = 6`     \n",
    "Output:      \n",
    "`[1,2]`   \n",
    "\n",
    "**Example 3**:     \n",
    "Input:      \n",
    "`nums = [3,3], target = 6`     \n",
    "Output:      \n",
    "`[0,1]`\n",
    "\n",
    "**Constraints**:\n",
    "\n",
    "- `2 <= nums.length <= 105`\n",
    "- `-10^9 <= nums[i] <= 109`  \n",
    "- `-10^9 <= target <= 109`\n",
    "- Only one valid answer exists.\n"
   ]
  },
  {
   "cell_type": "code",
   "execution_count": 1,
   "metadata": {},
   "outputs": [],
   "source": [
    "# Solution Runtime: 48 ms, < 84.4%\n",
    "\n",
    "def twoSum(nums, target):\n",
    "    enum_arr = {}\n",
    "    for index, num in enumerate(nums):\n",
    "        if target - num in enum_arr:\n",
    "            return [enum_arr[target - num], index]\n",
    "        enum_arr[num] = index\n",
    "\n",
    "# Test cases\n",
    "cases = [\n",
    "        ([2,7,11,15], 9),\n",
    "        ([3,2,4], 6),\n",
    "        ([3,3], 6)\n",
    "        ]"
   ]
  },
  {
   "cell_type": "code",
   "execution_count": null,
   "metadata": {},
   "outputs": [],
   "source": []
  }
 ],
 "metadata": {
  "kernelspec": {
   "display_name": "Python 3",
   "language": "python",
   "name": "python3"
  },
  "language_info": {
   "codemirror_mode": {
    "name": "ipython",
    "version": 3
   },
   "file_extension": ".py",
   "mimetype": "text/x-python",
   "name": "python",
   "nbconvert_exporter": "python",
   "pygments_lexer": "ipython3",
   "version": "3.7.5"
  }
 },
 "nbformat": 4,
 "nbformat_minor": 2
}
