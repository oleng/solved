{
 "cells": [
  {
   "cell_type": "markdown",
   "metadata": {},
   "source": [
    "###  274. H-Index (Medium)\n",
    "\n",
    "Given an array of citations (each citation is a non-negative integer) of a researcher, write a function to compute the researcher's h-index.\n",
    "\n",
    "According to [the definition of h-index on Wikipedia](https://en.wikipedia.org/wiki/H-index):    \n",
    "> A scientist has index `h` if `h` of his/her `N` papers have at least `h` citations each, and the other `N` − `h` papers have no more than `h` citations each.\n",
    "\n",
    "\n",
    "**Example 1**:    \n",
    "Input: `citations = [3,0,6,1,5]`     \n",
    "Output: `3`      \n",
    "Explanation:     \n",
    "``` \n",
    "[3,0,6,1,5] means the researcher has 5 papers in total and each of them had \n",
    "received 3, 0, 6, 1, 5 citations respectively. \n",
    "Since the researcher has 3 papers with at least 3 citations each and the remaining \n",
    "two with no more than 3 citations each, her h-index is 3.\n",
    "```    \n",
    "_Note: If there are several possible values for h, the maximum one is taken as the h-index_.\n",
    "\n"
   ]
  },
  {
   "cell_type": "code",
   "execution_count": 11,
   "metadata": {},
   "outputs": [],
   "source": [
    "# Solution, Runtime: 40 ms, < 21.94%\n",
    "\n",
    "def hIndex(citations):\n",
    "    ordered_c = sorted(citations, reverse=True)\n",
    "    h = 0\n",
    "    for i, c in enumerate(ordered_c):\n",
    "        if c > i:\n",
    "            h += 1\n",
    "    return h\n",
    "    \n",
    "    \n",
    "# test cases\n",
    "\n",
    "cases = [\n",
    "        [100], [4,4,4,4], [4,4,4,3], [10,8,5,4,3], [3,0,6,1,5], \n",
    "        [25,8,5,3,3], [0,0,1,23,0], [2,3,1,3,0], [0, 1]\n",
    "        ]"
   ]
  },
  {
   "cell_type": "markdown",
   "metadata": {},
   "source": [
    "#### Lesson\n",
    "---\n",
    "\n",
    "**RETHINK THE REQUIREMENT CLEARLY equals to CLEAR ALGORITHM TO WRITE**\n",
    "\n",
    "Or in other word, it's about the perspective, how you see the problem at hand. Shift your perspective to see better instead of getting focused/tunnel vision on trying to grasp the description dictated by someone else, because it might've not been the best way to describe it.\n",
    "\n",
    "Based on solution in https://leetcode.com/problems/h-index/discuss/71055/1-line-Python-solution\n",
    "\n",
    "`return sum(i < j for i, j in enumerate(sorted(citations, reverse=True)))`\n",
    "\n",
    "how to calculate H-index can be read as\n",
    "\n",
    "> _the amount of publications that has more citations than the number of published (papers) **so far**._\n",
    "\n",
    "In this case I finally understood the H-index algorithm from someone else's implementation in python  instead from the graphs in Wikipedia or the formal descriptions. This is sort of reverse-engineering in problem solving in my opinion, you can understand a by analysing & deconstruct a well known problem in reverse, from back to front instead of following the normal flow start-end.    \n",
    "\n",
    "And it's important to understand _the reason_ instead of just _the mechanism,_ once someone really understand the reason why something is done in particular way, then it can be implemented in many ways or even be improved.\n"
   ]
  },
  {
   "cell_type": "code",
   "execution_count": null,
   "metadata": {},
   "outputs": [],
   "source": []
  }
 ],
 "metadata": {
  "kernelspec": {
   "display_name": "Python 3",
   "language": "python",
   "name": "python3"
  },
  "language_info": {
   "codemirror_mode": {
    "name": "ipython",
    "version": 3
   },
   "file_extension": ".py",
   "mimetype": "text/x-python",
   "name": "python",
   "nbconvert_exporter": "python",
   "pygments_lexer": "ipython3",
   "version": "3.7.5"
  }
 },
 "nbformat": 4,
 "nbformat_minor": 2
}
