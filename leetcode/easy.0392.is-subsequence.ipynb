{
 "cells": [
  {
   "cell_type": "markdown",
   "metadata": {},
   "source": [
    "### 392. Is Subsequence (Easy)\n",
    "\n",
    "Given a string `s` and a string `t`, check if `s` is subsequence of `t`.\n",
    "\n",
    "A subsequence of a string is a new string which is formed from the original string by deleting some (can be none) of the characters without disturbing the relative positions of the remaining characters. (ie, `\"ace\"` is a subsequence of `\"abcde\"` while `\"aec\"` is not).\n",
    "\n",
    "Follow up:     \n",
    "If there are lots of incoming `S`, say `S1, S2, ..., Sk` where `k >= 1B`, and you want to check one by one to see if `T` has its subsequence. In this scenario, how would you change your code?\n",
    "\n",
    "Credits:     \n",
    "Special thanks to @pbrother for adding this problem and creating all test cases.\n",
    "\n",
    "\n",
    "**Example 1**:     \n",
    "Input: `s = \"abc\", t = \"ahbgdc\"`       \n",
    "Output: `true`\n",
    "\n",
    "**Example 2**:       \n",
    "Input: `s = \"axc\", t = \"ahbgdc\"`\n",
    "Output: `false`\n",
    "\n",
    "\n",
    "**Constraints**:\n",
    "\n",
    "    0 <= s.length <= 100\n",
    "    0 <= t.length <= 10^4\n",
    "    Both strings consists only of lowercase characters.\n"
   ]
  },
  {
   "cell_type": "code",
   "execution_count": 1,
   "metadata": {},
   "outputs": [],
   "source": [
    "# Solution, Runtime: 24 ms, < 96.53%\n",
    "\n",
    "def isSubsequence(s: str, t: str) -> bool:\n",
    "    index = 0\n",
    "    for i in range(len(s)):\n",
    "        result = t.find(s[i], index)\n",
    "        if result < 0:\n",
    "            return False\n",
    "        index = result + 1\n",
    "    return True\n",
    "\n",
    "cases = [\n",
    "        (\"abc\", \"ahbgdc\"), \n",
    "        (\"axc\", \"ahbgdc\"),\n",
    "        ('AXY', 'YADXCP'),\n",
    "        (' ye', 'Kanye West'),\n",
    "        ('gksrek', 'geeksforgeeks')\n",
    "]"
   ]
  },
  {
   "cell_type": "code",
   "execution_count": null,
   "metadata": {},
   "outputs": [],
   "source": []
  }
 ],
 "metadata": {
  "kernelspec": {
   "display_name": "Python 3",
   "language": "python",
   "name": "python3"
  },
  "language_info": {
   "codemirror_mode": {
    "name": "ipython",
    "version": 3
   },
   "file_extension": ".py",
   "mimetype": "text/x-python",
   "name": "python",
   "nbconvert_exporter": "python",
   "pygments_lexer": "ipython3",
   "version": "3.7.5"
  }
 },
 "nbformat": 4,
 "nbformat_minor": 2
}
