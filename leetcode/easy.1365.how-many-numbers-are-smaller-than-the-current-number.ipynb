{
 "cells": [
  {
   "cell_type": "markdown",
   "metadata": {},
   "source": [
    "### 1365. How Many Numbers Are Smaller Than the Current Number (Easy)\n",
    "\n",
    "Given the array `nums`, for each `nums[i]` find out how many numbers in the array are smaller than it. That is, for each `nums[i]` you have to count the number of valid `j`'s such that `j != i` and `nums[j] < nums[i]`.\n",
    "\n",
    "Return the answer in an array.\n",
    "\n",
    "\n",
    "**Example 1**:    \n",
    "Input: `nums = [8,1,2,2,3]`    \n",
    "Output: `[4,0,1,1,3]`      \n",
    "Explanation:      \n",
    "```\n",
    "For nums[0]=8 there exist four smaller numbers than it (1, 2, 2 and 3). \n",
    "For nums[1]=1 does not exist any smaller number than it.\n",
    "For nums[2]=2 there exist one smaller number than it (1). \n",
    "For nums[3]=2 there exist one smaller number than it (1). \n",
    "For nums[4]=3 there exist three smaller numbers than it (1, 2 and 2).\n",
    "````\n",
    "\n",
    "**Example 2**:     \n",
    "Input: `nums = [6,5,4,8]`      \n",
    "Output: `[2,1,0,3]` \n",
    "\n",
    "**Example 3**:      \n",
    "Input: `nums = [7,7,7,7]`     \n",
    "Output: `[0,0,0,0]` \n",
    "\n",
    "**Constraints**:\n",
    "\n",
    "    2 <= nums.length <= 500\n",
    "    0 <= nums[i] <= 100\n",
    "\n"
   ]
  },
  {
   "cell_type": "code",
   "execution_count": 3,
   "metadata": {},
   "outputs": [],
   "source": [
    "# Solution, Runtime: 336 ms, <  38.70%\n",
    "def smallerNumbersThanCurrent(nums):\n",
    "    return [len([x for x in nums if x < n and x != n]) for n in nums]\n",
    "    \n",
    "    \n",
    "# test cases\n",
    "\n",
    "cases = [[8,1,2,2,3], [6,5,4,8], [7,7,7,7], [0,0,0,0], [1,1], [0,1,2,9,2,8,2,3]]"
   ]
  },
  {
   "cell_type": "code",
   "execution_count": null,
   "metadata": {},
   "outputs": [],
   "source": []
  }
 ],
 "metadata": {
  "kernelspec": {
   "display_name": "Python 3",
   "language": "python",
   "name": "python3"
  },
  "language_info": {
   "codemirror_mode": {
    "name": "ipython",
    "version": 3
   },
   "file_extension": ".py",
   "mimetype": "text/x-python",
   "name": "python",
   "nbconvert_exporter": "python",
   "pygments_lexer": "ipython3",
   "version": "3.7.5"
  }
 },
 "nbformat": 4,
 "nbformat_minor": 2
}
