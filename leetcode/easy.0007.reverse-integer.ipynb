{
 "cells": [
  {
   "cell_type": "markdown",
   "metadata": {},
   "source": [
    "### 7. Reverse Integer (Easy)\n",
    "\n",
    "Given a 32-bit signed integer, reverse digits of an integer.\n",
    "\n",
    "**Example 1**:       \n",
    "Input: `123`    \n",
    "Output: `321`   \n",
    "\n",
    "**Example 2**:    \n",
    "Input: `-123`     \n",
    "Output: `-321` \n",
    "\n",
    "**Example 3**:      \n",
    "Input: `120`       \n",
    "Output: `21` \n",
    "\n",
    "Note:\n",
    "Assume we are dealing with an environment which could only store integers within the 32-bit signed integer range: `[−2^31,  2^31 − 1]`. For the purpose of this problem, assume that your function returns 0 when the reversed integer overflows."
   ]
  },
  {
   "cell_type": "code",
   "execution_count": 1,
   "metadata": {},
   "outputs": [],
   "source": [
    "# Solution Runtime: 32 ms, < 69.93%\n",
    "\n",
    "def reverse(x: int) -> int:\n",
    "    if not pow(-2,31) <= x <= pow(2,31)-1:\n",
    "        return 0\n",
    "\n",
    "    if 0 <= x <= pow(2,31)-1:\n",
    "        result = int(str(x)[::-1])\n",
    "        return result if 0 <= result <= pow(2,31)-1 else 0\n",
    "\n",
    "    elif pow(-2,31) <= x < 0:\n",
    "        str_x = str(x)[1:]\n",
    "        result = -int(str_x[::-1])\n",
    "        return result if pow(-2, 31) <= result <= pow(2,31)-1 else 0\n",
    "    \n",
    "    \n",
    "# Test cases\n",
    "cases = [0, 1, 4, 12345, 31203, 2123, 2300, 123, -123, 120]"
   ]
  },
  {
   "cell_type": "code",
   "execution_count": null,
   "metadata": {},
   "outputs": [],
   "source": []
  }
 ],
 "metadata": {
  "kernelspec": {
   "display_name": "Python 3",
   "language": "python",
   "name": "python3"
  },
  "language_info": {
   "codemirror_mode": {
    "name": "ipython",
    "version": 3
   },
   "file_extension": ".py",
   "mimetype": "text/x-python",
   "name": "python",
   "nbconvert_exporter": "python",
   "pygments_lexer": "ipython3",
   "version": "3.7.5"
  }
 },
 "nbformat": 4,
 "nbformat_minor": 2
}
